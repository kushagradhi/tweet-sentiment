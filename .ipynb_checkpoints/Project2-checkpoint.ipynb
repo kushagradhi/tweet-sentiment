{
 "cells": [
  {
   "cell_type": "code",
   "execution_count": 256,
   "metadata": {},
   "outputs": [],
   "source": [
    "import pandas as pd\n",
    "from nltk.corpus import stopwords\n",
    "from nltk.tokenize import word_tokenize\n",
    "from nltk.stem import PorterStemmer\n",
    "from sklearn.feature_extraction.text import TfidfVectorizer\n",
    "from sklearn.naive_bayes import MultinomialNB\n",
    "from sklearn.svm import LinearSVC\n",
    "from sklearn.model_selection import StratifiedKFold\n",
    "from sklearn.metrics import confusion_matrix\n",
    "from statistics import mean\n",
    "import numpy as np\n",
    "import re\n",
    "\n",
    "xls_dir=\"data/trainingObamaRomneytweets.xlsx\"\n",
    "porter=PorterStemmer()"
   ]
  },
  {
   "cell_type": "code",
   "execution_count": 257,
   "metadata": {},
   "outputs": [],
   "source": [
    "columns=[3,4]\n",
    "df=pd.read_excel(xls_dir, sheet_names='Obama', usecols=columns, header=1, names=['Tweet', 'Sentiment'])\n",
    "#df"
   ]
  },
  {
   "cell_type": "code",
   "execution_count": 258,
   "metadata": {},
   "outputs": [],
   "source": [
    "df.drop(df[(df.Sentiment!=1) & (df.Sentiment!=-1) & (df.Sentiment!=0)].index, inplace=True)\n",
    "df.dropna(how='any', inplace=True)\n",
    "#df"
   ]
  },
  {
   "cell_type": "code",
   "execution_count": 259,
   "metadata": {
    "scrolled": true
   },
   "outputs": [],
   "source": [
    "#Remove tags\n",
    "df['Tweet'] = df['Tweet'].apply(lambda x: re.sub(\"<.*?>\", '', x))\n",
    "\n",
    "#remove stopwords\n",
    "stopwords_english=stopwords.words(\"english\")\n",
    "df['Tweet'] = df['Tweet'].apply(lambda x: ' '.join([word for word in x.split() if word not in (stopwords_english)]))\n",
    "\n",
    "#lowerCase\n",
    "df['Tweet'] = df['Tweet'].apply(lambda x: ' '.join([word.lower() for word in x.split()]))\n",
    "#df"
   ]
  },
  {
   "cell_type": "code",
   "execution_count": 260,
   "metadata": {
    "scrolled": true
   },
   "outputs": [],
   "source": [
    "#Stemming\n",
    "def stem(tweet):\n",
    "    tokens=word_tokenize(tweet)\n",
    "    result=[]\n",
    "    for token in tokens:\n",
    "        result.extend([porter.stem(token)])\n",
    "    return result\n",
    "df['Tweet'] = df['Tweet'].apply(stem)\n",
    "#df"
   ]
  },
  {
   "cell_type": "code",
   "execution_count": 261,
   "metadata": {},
   "outputs": [],
   "source": [
    "#remove punctuation\n",
    "punctuations = ['\"',\"'\",'!','@','#','-','_',',','``',\"''\",'?',':','$','%','^','(',')','’','.']\n",
    "def removePunctuation(tweet):\n",
    "    return [token for token in tweet if token not in string.punctuation]\n",
    "df['Tweet'] = df['Tweet'].apply(removePunctuation)\n",
    "corpus = [\" \".join(tweet) for tweet in df[\"Tweet\"]]\n",
    "labels = [int(sentiment) for sentiment in df[\"Sentiment\"]]\n",
    "#df"
   ]
  },
  {
   "cell_type": "code",
   "execution_count": 265,
   "metadata": {},
   "outputs": [
    {
     "name": "stdout",
     "output_type": "stream",
     "text": [
      "0.555610462954354\n",
      "0.5724302100636492\n"
     ]
    }
   ],
   "source": [
    "kf = StratifiedKFold(n_splits=10)\n",
    "totalNB = []\n",
    "totalSVM = []\n",
    "for train_index, test_index in kf.split(corpus,labels):\n",
    "    X_train = [corpus[i] for i in train_index]\n",
    "    X_test = [corpus[i] for i in test_index]\n",
    "    y_train =  [labels[i] for i in train_index]\n",
    "    y_test = [labels[i] for i in test_index]\n",
    "    vectorizer = TfidfVectorizer(sublinear_tf=True, use_idf=True)\n",
    "    train_corpus_tf_idf = vectorizer.fit_transform(X_train) \n",
    "    test_corpus_tf_idf = vectorizer.transform(X_test)\n",
    "    \n",
    "    model1 = LinearSVC()\n",
    "    model2 = MultinomialNB()\n",
    "    model1.fit(train_corpus_tf_idf,y_train)\n",
    "    model2.fit(train_corpus_tf_idf,y_train)\n",
    "    result1 = model1.predict(test_corpus_tf_idf)\n",
    "    result2 = model2.predict(test_corpus_tf_idf)\n",
    "    cm1 = confusion_matrix(y_test, result1)\n",
    "    cm2 = confusion_matrix(y_test,result2)\n",
    "    totalNB.append((cm1[0][0]+cm1[1][1]+cm1[2][2])/np.sum(cm1))\n",
    "    totalSVM.append((cm2[0][0]+cm2[1][1]+cm2[2][2])/np.sum(cm2))\n",
    "print (mean(totalNB))\n",
    "print (mean(totalSVM))"
   ]
  },
  {
   "cell_type": "code",
   "execution_count": null,
   "metadata": {},
   "outputs": [],
   "source": []
  }
 ],
 "metadata": {
  "kernelspec": {
   "display_name": "Python 3",
   "language": "python",
   "name": "python3"
  },
  "language_info": {
   "codemirror_mode": {
    "name": "ipython",
    "version": 3
   },
   "file_extension": ".py",
   "mimetype": "text/x-python",
   "name": "python",
   "nbconvert_exporter": "python",
   "pygments_lexer": "ipython3",
   "version": "3.7.2"
  }
 },
 "nbformat": 4,
 "nbformat_minor": 2
}
